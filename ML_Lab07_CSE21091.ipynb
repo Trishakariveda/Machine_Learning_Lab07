{
 "cells": [
  {
   "cell_type": "code",
   "execution_count": 1,
   "id": "b429a6cd",
   "metadata": {},
   "outputs": [],
   "source": [
    "#Kariveda Trisha\n",
    "#Bl.EN.U4CSE21091"
   ]
  },
  {
   "cell_type": "code",
   "execution_count": 2,
   "id": "bb5170a5",
   "metadata": {},
   "outputs": [],
   "source": [
    "import math\n",
    "import numpy as np\n",
    "import pandas as pd\n",
    "from sklearn.preprocessing import LabelEncoder\n",
    "from sklearn.model_selection import train_test_split\n",
    "from sklearn.svm import SVC"
   ]
  },
  {
   "cell_type": "code",
   "execution_count": 3,
   "id": "13e1a872",
   "metadata": {},
   "outputs": [
    {
     "data": {
      "text/html": [
       "<div>\n",
       "<style scoped>\n",
       "    .dataframe tbody tr th:only-of-type {\n",
       "        vertical-align: middle;\n",
       "    }\n",
       "\n",
       "    .dataframe tbody tr th {\n",
       "        vertical-align: top;\n",
       "    }\n",
       "\n",
       "    .dataframe thead th {\n",
       "        text-align: right;\n",
       "    }\n",
       "</style>\n",
       "<table border=\"1\" class=\"dataframe\">\n",
       "  <thead>\n",
       "    <tr style=\"text-align: right;\">\n",
       "      <th></th>\n",
       "      <th>lesion_id</th>\n",
       "      <th>image_id</th>\n",
       "      <th>dx</th>\n",
       "      <th>dx_type</th>\n",
       "      <th>age</th>\n",
       "      <th>sex</th>\n",
       "      <th>localization</th>\n",
       "    </tr>\n",
       "  </thead>\n",
       "  <tbody>\n",
       "    <tr>\n",
       "      <th>0</th>\n",
       "      <td>HAM_0000118</td>\n",
       "      <td>ISIC_0027419</td>\n",
       "      <td>bkl</td>\n",
       "      <td>histo</td>\n",
       "      <td>80.0</td>\n",
       "      <td>male</td>\n",
       "      <td>scalp</td>\n",
       "    </tr>\n",
       "    <tr>\n",
       "      <th>1</th>\n",
       "      <td>HAM_0000118</td>\n",
       "      <td>ISIC_0025030</td>\n",
       "      <td>bkl</td>\n",
       "      <td>histo</td>\n",
       "      <td>80.0</td>\n",
       "      <td>male</td>\n",
       "      <td>scalp</td>\n",
       "    </tr>\n",
       "    <tr>\n",
       "      <th>2</th>\n",
       "      <td>HAM_0002730</td>\n",
       "      <td>ISIC_0026769</td>\n",
       "      <td>bkl</td>\n",
       "      <td>histo</td>\n",
       "      <td>80.0</td>\n",
       "      <td>male</td>\n",
       "      <td>scalp</td>\n",
       "    </tr>\n",
       "    <tr>\n",
       "      <th>3</th>\n",
       "      <td>HAM_0002730</td>\n",
       "      <td>ISIC_0025661</td>\n",
       "      <td>bkl</td>\n",
       "      <td>histo</td>\n",
       "      <td>80.0</td>\n",
       "      <td>male</td>\n",
       "      <td>scalp</td>\n",
       "    </tr>\n",
       "    <tr>\n",
       "      <th>4</th>\n",
       "      <td>HAM_0001466</td>\n",
       "      <td>ISIC_0031633</td>\n",
       "      <td>bkl</td>\n",
       "      <td>histo</td>\n",
       "      <td>75.0</td>\n",
       "      <td>male</td>\n",
       "      <td>ear</td>\n",
       "    </tr>\n",
       "    <tr>\n",
       "      <th>...</th>\n",
       "      <td>...</td>\n",
       "      <td>...</td>\n",
       "      <td>...</td>\n",
       "      <td>...</td>\n",
       "      <td>...</td>\n",
       "      <td>...</td>\n",
       "      <td>...</td>\n",
       "    </tr>\n",
       "    <tr>\n",
       "      <th>10010</th>\n",
       "      <td>HAM_0002867</td>\n",
       "      <td>ISIC_0033084</td>\n",
       "      <td>akiec</td>\n",
       "      <td>histo</td>\n",
       "      <td>40.0</td>\n",
       "      <td>male</td>\n",
       "      <td>abdomen</td>\n",
       "    </tr>\n",
       "    <tr>\n",
       "      <th>10011</th>\n",
       "      <td>HAM_0002867</td>\n",
       "      <td>ISIC_0033550</td>\n",
       "      <td>akiec</td>\n",
       "      <td>histo</td>\n",
       "      <td>40.0</td>\n",
       "      <td>male</td>\n",
       "      <td>abdomen</td>\n",
       "    </tr>\n",
       "    <tr>\n",
       "      <th>10012</th>\n",
       "      <td>HAM_0002867</td>\n",
       "      <td>ISIC_0033536</td>\n",
       "      <td>akiec</td>\n",
       "      <td>histo</td>\n",
       "      <td>40.0</td>\n",
       "      <td>male</td>\n",
       "      <td>abdomen</td>\n",
       "    </tr>\n",
       "    <tr>\n",
       "      <th>10013</th>\n",
       "      <td>HAM_0000239</td>\n",
       "      <td>ISIC_0032854</td>\n",
       "      <td>akiec</td>\n",
       "      <td>histo</td>\n",
       "      <td>80.0</td>\n",
       "      <td>male</td>\n",
       "      <td>face</td>\n",
       "    </tr>\n",
       "    <tr>\n",
       "      <th>10014</th>\n",
       "      <td>HAM_0003521</td>\n",
       "      <td>ISIC_0032258</td>\n",
       "      <td>mel</td>\n",
       "      <td>histo</td>\n",
       "      <td>70.0</td>\n",
       "      <td>female</td>\n",
       "      <td>back</td>\n",
       "    </tr>\n",
       "  </tbody>\n",
       "</table>\n",
       "<p>10015 rows × 7 columns</p>\n",
       "</div>"
      ],
      "text/plain": [
       "         lesion_id      image_id     dx dx_type   age     sex localization\n",
       "0      HAM_0000118  ISIC_0027419    bkl   histo  80.0    male        scalp\n",
       "1      HAM_0000118  ISIC_0025030    bkl   histo  80.0    male        scalp\n",
       "2      HAM_0002730  ISIC_0026769    bkl   histo  80.0    male        scalp\n",
       "3      HAM_0002730  ISIC_0025661    bkl   histo  80.0    male        scalp\n",
       "4      HAM_0001466  ISIC_0031633    bkl   histo  75.0    male          ear\n",
       "...            ...           ...    ...     ...   ...     ...          ...\n",
       "10010  HAM_0002867  ISIC_0033084  akiec   histo  40.0    male      abdomen\n",
       "10011  HAM_0002867  ISIC_0033550  akiec   histo  40.0    male      abdomen\n",
       "10012  HAM_0002867  ISIC_0033536  akiec   histo  40.0    male      abdomen\n",
       "10013  HAM_0000239  ISIC_0032854  akiec   histo  80.0    male         face\n",
       "10014  HAM_0003521  ISIC_0032258    mel   histo  70.0  female         back\n",
       "\n",
       "[10015 rows x 7 columns]"
      ]
     },
     "execution_count": 3,
     "metadata": {},
     "output_type": "execute_result"
    }
   ],
   "source": [
    "df = pd.read_csv(\"Skin_Cancer_Metadata.csv\")\n",
    "df"
   ]
  },
  {
   "cell_type": "code",
   "execution_count": 4,
   "id": "2ebd0a68",
   "metadata": {},
   "outputs": [],
   "source": [
    "missing_val= df['age'].mean()\n",
    "df['age'].fillna(missing_val, inplace = True)"
   ]
  },
  {
   "cell_type": "code",
   "execution_count": 5,
   "id": "3b99bf6e",
   "metadata": {},
   "outputs": [],
   "source": [
    "label_encoder = LabelEncoder()\n",
    "df['dx'] = label_encoder.fit_transform(df['dx'])\n",
    "df.to_csv('encoded_skin_cancer.csv', index=False)"
   ]
  },
  {
   "cell_type": "code",
   "execution_count": 6,
   "id": "dff68797",
   "metadata": {},
   "outputs": [
    {
     "data": {
      "text/html": [
       "<div>\n",
       "<style scoped>\n",
       "    .dataframe tbody tr th:only-of-type {\n",
       "        vertical-align: middle;\n",
       "    }\n",
       "\n",
       "    .dataframe tbody tr th {\n",
       "        vertical-align: top;\n",
       "    }\n",
       "\n",
       "    .dataframe thead th {\n",
       "        text-align: right;\n",
       "    }\n",
       "</style>\n",
       "<table border=\"1\" class=\"dataframe\">\n",
       "  <thead>\n",
       "    <tr style=\"text-align: right;\">\n",
       "      <th></th>\n",
       "      <th>lesion_id</th>\n",
       "      <th>image_id</th>\n",
       "      <th>dx</th>\n",
       "      <th>dx_type</th>\n",
       "      <th>age</th>\n",
       "      <th>sex</th>\n",
       "      <th>localization</th>\n",
       "    </tr>\n",
       "  </thead>\n",
       "  <tbody>\n",
       "    <tr>\n",
       "      <th>0</th>\n",
       "      <td>HAM_0000118</td>\n",
       "      <td>ISIC_0027419</td>\n",
       "      <td>2</td>\n",
       "      <td>histo</td>\n",
       "      <td>80.0</td>\n",
       "      <td>male</td>\n",
       "      <td>scalp</td>\n",
       "    </tr>\n",
       "    <tr>\n",
       "      <th>1</th>\n",
       "      <td>HAM_0000118</td>\n",
       "      <td>ISIC_0025030</td>\n",
       "      <td>2</td>\n",
       "      <td>histo</td>\n",
       "      <td>80.0</td>\n",
       "      <td>male</td>\n",
       "      <td>scalp</td>\n",
       "    </tr>\n",
       "    <tr>\n",
       "      <th>2</th>\n",
       "      <td>HAM_0002730</td>\n",
       "      <td>ISIC_0026769</td>\n",
       "      <td>2</td>\n",
       "      <td>histo</td>\n",
       "      <td>80.0</td>\n",
       "      <td>male</td>\n",
       "      <td>scalp</td>\n",
       "    </tr>\n",
       "    <tr>\n",
       "      <th>3</th>\n",
       "      <td>HAM_0002730</td>\n",
       "      <td>ISIC_0025661</td>\n",
       "      <td>2</td>\n",
       "      <td>histo</td>\n",
       "      <td>80.0</td>\n",
       "      <td>male</td>\n",
       "      <td>scalp</td>\n",
       "    </tr>\n",
       "    <tr>\n",
       "      <th>4</th>\n",
       "      <td>HAM_0001466</td>\n",
       "      <td>ISIC_0031633</td>\n",
       "      <td>2</td>\n",
       "      <td>histo</td>\n",
       "      <td>75.0</td>\n",
       "      <td>male</td>\n",
       "      <td>ear</td>\n",
       "    </tr>\n",
       "    <tr>\n",
       "      <th>...</th>\n",
       "      <td>...</td>\n",
       "      <td>...</td>\n",
       "      <td>...</td>\n",
       "      <td>...</td>\n",
       "      <td>...</td>\n",
       "      <td>...</td>\n",
       "      <td>...</td>\n",
       "    </tr>\n",
       "    <tr>\n",
       "      <th>10010</th>\n",
       "      <td>HAM_0002867</td>\n",
       "      <td>ISIC_0033084</td>\n",
       "      <td>0</td>\n",
       "      <td>histo</td>\n",
       "      <td>40.0</td>\n",
       "      <td>male</td>\n",
       "      <td>abdomen</td>\n",
       "    </tr>\n",
       "    <tr>\n",
       "      <th>10011</th>\n",
       "      <td>HAM_0002867</td>\n",
       "      <td>ISIC_0033550</td>\n",
       "      <td>0</td>\n",
       "      <td>histo</td>\n",
       "      <td>40.0</td>\n",
       "      <td>male</td>\n",
       "      <td>abdomen</td>\n",
       "    </tr>\n",
       "    <tr>\n",
       "      <th>10012</th>\n",
       "      <td>HAM_0002867</td>\n",
       "      <td>ISIC_0033536</td>\n",
       "      <td>0</td>\n",
       "      <td>histo</td>\n",
       "      <td>40.0</td>\n",
       "      <td>male</td>\n",
       "      <td>abdomen</td>\n",
       "    </tr>\n",
       "    <tr>\n",
       "      <th>10013</th>\n",
       "      <td>HAM_0000239</td>\n",
       "      <td>ISIC_0032854</td>\n",
       "      <td>0</td>\n",
       "      <td>histo</td>\n",
       "      <td>80.0</td>\n",
       "      <td>male</td>\n",
       "      <td>face</td>\n",
       "    </tr>\n",
       "    <tr>\n",
       "      <th>10014</th>\n",
       "      <td>HAM_0003521</td>\n",
       "      <td>ISIC_0032258</td>\n",
       "      <td>4</td>\n",
       "      <td>histo</td>\n",
       "      <td>70.0</td>\n",
       "      <td>female</td>\n",
       "      <td>back</td>\n",
       "    </tr>\n",
       "  </tbody>\n",
       "</table>\n",
       "<p>10015 rows × 7 columns</p>\n",
       "</div>"
      ],
      "text/plain": [
       "         lesion_id      image_id  dx dx_type   age     sex localization\n",
       "0      HAM_0000118  ISIC_0027419   2   histo  80.0    male        scalp\n",
       "1      HAM_0000118  ISIC_0025030   2   histo  80.0    male        scalp\n",
       "2      HAM_0002730  ISIC_0026769   2   histo  80.0    male        scalp\n",
       "3      HAM_0002730  ISIC_0025661   2   histo  80.0    male        scalp\n",
       "4      HAM_0001466  ISIC_0031633   2   histo  75.0    male          ear\n",
       "...            ...           ...  ..     ...   ...     ...          ...\n",
       "10010  HAM_0002867  ISIC_0033084   0   histo  40.0    male      abdomen\n",
       "10011  HAM_0002867  ISIC_0033550   0   histo  40.0    male      abdomen\n",
       "10012  HAM_0002867  ISIC_0033536   0   histo  40.0    male      abdomen\n",
       "10013  HAM_0000239  ISIC_0032854   0   histo  80.0    male         face\n",
       "10014  HAM_0003521  ISIC_0032258   4   histo  70.0  female         back\n",
       "\n",
       "[10015 rows x 7 columns]"
      ]
     },
     "execution_count": 6,
     "metadata": {},
     "output_type": "execute_result"
    }
   ],
   "source": [
    "df = pd.read_csv(\"encoded_skin_cancer.csv\")\n",
    "df"
   ]
  },
  {
   "cell_type": "code",
   "execution_count": 10,
   "id": "43124338",
   "metadata": {},
   "outputs": [],
   "source": [
    "df['dx_type'] = label_encoder.fit_transform(df['dx_type'])\n",
    "df['age'] = label_encoder.fit_transform(df['age'])\n",
    "df['sex'] = label_encoder.fit_transform(df['sex'])\n",
    "df['localization'] = label_encoder.fit_transform(df['localization'])\n",
    "df.to_csv('encoded_skin_cancer.csv', index=False)"
   ]
  },
  {
   "cell_type": "code",
   "execution_count": 11,
   "id": "8fc3280d",
   "metadata": {},
   "outputs": [
    {
     "data": {
      "text/html": [
       "<div>\n",
       "<style scoped>\n",
       "    .dataframe tbody tr th:only-of-type {\n",
       "        vertical-align: middle;\n",
       "    }\n",
       "\n",
       "    .dataframe tbody tr th {\n",
       "        vertical-align: top;\n",
       "    }\n",
       "\n",
       "    .dataframe thead th {\n",
       "        text-align: right;\n",
       "    }\n",
       "</style>\n",
       "<table border=\"1\" class=\"dataframe\">\n",
       "  <thead>\n",
       "    <tr style=\"text-align: right;\">\n",
       "      <th></th>\n",
       "      <th>lesion_id</th>\n",
       "      <th>image_id</th>\n",
       "      <th>dx</th>\n",
       "      <th>dx_type</th>\n",
       "      <th>age</th>\n",
       "      <th>sex</th>\n",
       "      <th>localization</th>\n",
       "    </tr>\n",
       "  </thead>\n",
       "  <tbody>\n",
       "    <tr>\n",
       "      <th>0</th>\n",
       "      <td>HAM_0000118</td>\n",
       "      <td>ISIC_0027419</td>\n",
       "      <td>2</td>\n",
       "      <td>3</td>\n",
       "      <td>17</td>\n",
       "      <td>1</td>\n",
       "      <td>11</td>\n",
       "    </tr>\n",
       "    <tr>\n",
       "      <th>1</th>\n",
       "      <td>HAM_0000118</td>\n",
       "      <td>ISIC_0025030</td>\n",
       "      <td>2</td>\n",
       "      <td>3</td>\n",
       "      <td>17</td>\n",
       "      <td>1</td>\n",
       "      <td>11</td>\n",
       "    </tr>\n",
       "    <tr>\n",
       "      <th>2</th>\n",
       "      <td>HAM_0002730</td>\n",
       "      <td>ISIC_0026769</td>\n",
       "      <td>2</td>\n",
       "      <td>3</td>\n",
       "      <td>17</td>\n",
       "      <td>1</td>\n",
       "      <td>11</td>\n",
       "    </tr>\n",
       "    <tr>\n",
       "      <th>3</th>\n",
       "      <td>HAM_0002730</td>\n",
       "      <td>ISIC_0025661</td>\n",
       "      <td>2</td>\n",
       "      <td>3</td>\n",
       "      <td>17</td>\n",
       "      <td>1</td>\n",
       "      <td>11</td>\n",
       "    </tr>\n",
       "    <tr>\n",
       "      <th>4</th>\n",
       "      <td>HAM_0001466</td>\n",
       "      <td>ISIC_0031633</td>\n",
       "      <td>2</td>\n",
       "      <td>3</td>\n",
       "      <td>16</td>\n",
       "      <td>1</td>\n",
       "      <td>4</td>\n",
       "    </tr>\n",
       "    <tr>\n",
       "      <th>...</th>\n",
       "      <td>...</td>\n",
       "      <td>...</td>\n",
       "      <td>...</td>\n",
       "      <td>...</td>\n",
       "      <td>...</td>\n",
       "      <td>...</td>\n",
       "      <td>...</td>\n",
       "    </tr>\n",
       "    <tr>\n",
       "      <th>10010</th>\n",
       "      <td>HAM_0002867</td>\n",
       "      <td>ISIC_0033084</td>\n",
       "      <td>0</td>\n",
       "      <td>3</td>\n",
       "      <td>8</td>\n",
       "      <td>1</td>\n",
       "      <td>0</td>\n",
       "    </tr>\n",
       "    <tr>\n",
       "      <th>10011</th>\n",
       "      <td>HAM_0002867</td>\n",
       "      <td>ISIC_0033550</td>\n",
       "      <td>0</td>\n",
       "      <td>3</td>\n",
       "      <td>8</td>\n",
       "      <td>1</td>\n",
       "      <td>0</td>\n",
       "    </tr>\n",
       "    <tr>\n",
       "      <th>10012</th>\n",
       "      <td>HAM_0002867</td>\n",
       "      <td>ISIC_0033536</td>\n",
       "      <td>0</td>\n",
       "      <td>3</td>\n",
       "      <td>8</td>\n",
       "      <td>1</td>\n",
       "      <td>0</td>\n",
       "    </tr>\n",
       "    <tr>\n",
       "      <th>10013</th>\n",
       "      <td>HAM_0000239</td>\n",
       "      <td>ISIC_0032854</td>\n",
       "      <td>0</td>\n",
       "      <td>3</td>\n",
       "      <td>17</td>\n",
       "      <td>1</td>\n",
       "      <td>5</td>\n",
       "    </tr>\n",
       "    <tr>\n",
       "      <th>10014</th>\n",
       "      <td>HAM_0003521</td>\n",
       "      <td>ISIC_0032258</td>\n",
       "      <td>4</td>\n",
       "      <td>3</td>\n",
       "      <td>15</td>\n",
       "      <td>0</td>\n",
       "      <td>2</td>\n",
       "    </tr>\n",
       "  </tbody>\n",
       "</table>\n",
       "<p>10015 rows × 7 columns</p>\n",
       "</div>"
      ],
      "text/plain": [
       "         lesion_id      image_id  dx  dx_type  age  sex  localization\n",
       "0      HAM_0000118  ISIC_0027419   2        3   17    1            11\n",
       "1      HAM_0000118  ISIC_0025030   2        3   17    1            11\n",
       "2      HAM_0002730  ISIC_0026769   2        3   17    1            11\n",
       "3      HAM_0002730  ISIC_0025661   2        3   17    1            11\n",
       "4      HAM_0001466  ISIC_0031633   2        3   16    1             4\n",
       "...            ...           ...  ..      ...  ...  ...           ...\n",
       "10010  HAM_0002867  ISIC_0033084   0        3    8    1             0\n",
       "10011  HAM_0002867  ISIC_0033550   0        3    8    1             0\n",
       "10012  HAM_0002867  ISIC_0033536   0        3    8    1             0\n",
       "10013  HAM_0000239  ISIC_0032854   0        3   17    1             5\n",
       "10014  HAM_0003521  ISIC_0032258   4        3   15    0             2\n",
       "\n",
       "[10015 rows x 7 columns]"
      ]
     },
     "execution_count": 11,
     "metadata": {},
     "output_type": "execute_result"
    }
   ],
   "source": [
    "df = pd.read_csv(\"encoded_skin_cancer.csv\")\n",
    "df"
   ]
  },
  {
   "cell_type": "code",
   "execution_count": 9,
   "id": "88bb6ffe",
   "metadata": {},
   "outputs": [],
   "source": [
    "#A1. Train a support vector machine using the training set"
   ]
  },
  {
   "cell_type": "code",
   "execution_count": 17,
   "id": "cfce016d",
   "metadata": {},
   "outputs": [
    {
     "name": "stdout",
     "output_type": "stream",
     "text": [
      "The Number of support vectors are: 1809\n",
      "Support Vectors are:\n",
      " [[13.  1.  2.]\n",
      " [10.  1.  2.]\n",
      " [10.  0.  9.]\n",
      " ...\n",
      " [14.  0.  2.]\n",
      " [18.  1. 13.]\n",
      " [13.  1.  0.]]\n"
     ]
    }
   ],
   "source": [
    "dx1 = 4\n",
    "dx2 = 5\n",
    "\n",
    "twoclass_dataset = df[df['dx'].isin([dx1, dx2])]\n",
    "\n",
    "X = twoclass_dataset[['age','sex','localization']]\n",
    "y = twoclass_dataset['dx']\n",
    "\n",
    "# Split the data into training and testing sets\n",
    "X_train, X_test, y_train, y_test = train_test_split(X, y_encoded, test_size=0.2, random_state=42)\n",
    "\n",
    "# SVM model\n",
    "clf = SVC(kernel='linear')\n",
    "clf.fit(X_train, y_train)\n",
    "\n",
    "support_vectors = clf.support_vectors_\n",
    "\n",
    "print(\"The Number of support vectors are:\", len(support_vectors))\n",
    "print(\"Support Vectors are:\\n\", support_vectors)\n"
   ]
  },
  {
   "cell_type": "code",
   "execution_count": null,
   "id": "fee59e59",
   "metadata": {},
   "outputs": [],
   "source": [
    "#A2.Test the accuracy of the SVM."
   ]
  },
  {
   "cell_type": "code",
   "execution_count": 18,
   "id": "bf1159da",
   "metadata": {},
   "outputs": [
    {
     "data": {
      "text/plain": [
       "0.8471867007672634"
      ]
     },
     "execution_count": 18,
     "metadata": {},
     "output_type": "execute_result"
    }
   ],
   "source": [
    "clf.score(X_test, y_test)"
   ]
  },
  {
   "cell_type": "code",
   "execution_count": null,
   "id": "b505e7cf",
   "metadata": {},
   "outputs": [],
   "source": [
    "#A3. Use the Predict function of SVC classifier."
   ]
  },
  {
   "cell_type": "code",
   "execution_count": 21,
   "id": "21550400",
   "metadata": {},
   "outputs": [
    {
     "name": "stdout",
     "output_type": "stream",
     "text": [
      "Accuracy is: 0.8471867007672634\n"
     ]
    }
   ],
   "source": [
    "from sklearn.metrics import accuracy_score\n",
    "y_pred = clf.predict(X_test)\n",
    "accuracy_clf = accuracy_score(y_test, y_pred)\n",
    "print(\"Accuracy is:\", accuracy_clf)"
   ]
  },
  {
   "cell_type": "code",
   "execution_count": 22,
   "id": "faa275fc",
   "metadata": {},
   "outputs": [
    {
     "data": {
      "text/plain": [
       "array([1, 1, 1, ..., 1, 1, 1], dtype=int64)"
      ]
     },
     "execution_count": 22,
     "metadata": {},
     "output_type": "execute_result"
    }
   ],
   "source": [
    "clf.predict(X_test)"
   ]
  },
  {
   "cell_type": "code",
   "execution_count": null,
   "id": "27cebc4e",
   "metadata": {},
   "outputs": [],
   "source": [
    "#A4. Experiment with various kernel functions (‘linear’, ‘poly’, ‘rbf’ & ‘sigmoid’)"
   ]
  },
  {
   "cell_type": "code",
   "execution_count": 35,
   "id": "31f45fe0",
   "metadata": {},
   "outputs": [
    {
     "name": "stdout",
     "output_type": "stream",
     "text": [
      "The Number of support vectors in poly kernal: 1847\n",
      "Support Vectors:\n",
      " [[13.  1.  2.]\n",
      " [10.  1.  2.]\n",
      " [10.  0.  9.]\n",
      " ...\n",
      " [14.  0.  2.]\n",
      " [18.  1. 13.]\n",
      " [13.  1.  0.]]\n"
     ]
    }
   ],
   "source": [
    "#poly kernal\n",
    "clf_1 = SVC(kernel='poly')\n",
    "clf_1.fit(X_train, y_train)\n",
    "\n",
    "support_vectors = clf_1.support_vectors_\n",
    "\n",
    "print(\"The Number of support vectors in poly kernal:\", len(support_vectors))\n",
    "print(\"Support Vectors:\\n\", support_vectors)"
   ]
  },
  {
   "cell_type": "code",
   "execution_count": 36,
   "id": "677985c5",
   "metadata": {},
   "outputs": [
    {
     "name": "stdout",
     "output_type": "stream",
     "text": [
      "Accuracy of poly kernal is: 0.8471867007672634\n"
     ]
    }
   ],
   "source": [
    "y_pred = clf_1.predict(X_test)\n",
    "accuracy_poly = accuracy_score(y_test, y_pred)\n",
    "print(\"Accuracy of poly kernal is:\", accuracy_poly)"
   ]
  },
  {
   "cell_type": "code",
   "execution_count": 42,
   "id": "3a890189",
   "metadata": {},
   "outputs": [
    {
     "name": "stdout",
     "output_type": "stream",
     "text": [
      "The Number of support vectors in rbf kernal: 1877\n",
      "Support Vectors are:\n",
      " [[13.  1.  2.]\n",
      " [10.  1.  2.]\n",
      " [10.  0.  9.]\n",
      " ...\n",
      " [13.  0.  6.]\n",
      " [14.  0.  2.]\n",
      " [18.  1. 13.]]\n"
     ]
    }
   ],
   "source": [
    "#rbf kernal\n",
    "clf_2 = SVC(kernel='rbf')\n",
    "clf_2.fit(X_train, y_train)\n",
    "\n",
    "support_vectors = clf_2.support_vectors_\n",
    "\n",
    "print(\"The Number of support vectors in rbf kernal:\", len(support_vectors))\n",
    "print(\"Support Vectors are:\\n\", support_vectors)"
   ]
  },
  {
   "cell_type": "code",
   "execution_count": 43,
   "id": "870e5331",
   "metadata": {},
   "outputs": [
    {
     "name": "stdout",
     "output_type": "stream",
     "text": [
      "Accuracy of rbf kernal is: 0.8471867007672634\n"
     ]
    }
   ],
   "source": [
    "y_pred = clf_2.predict(X_test)\n",
    "accuracy_rbf = accuracy_score(y_test, y_pred)\n",
    "print(\"Accuracy of rbf kernal is:\", accuracy_rbf)"
   ]
  },
  {
   "cell_type": "code",
   "execution_count": 44,
   "id": "7c86b9f5",
   "metadata": {},
   "outputs": [
    {
     "name": "stdout",
     "output_type": "stream",
     "text": [
      "The Number of support vectors in sigmoid kernal: 1216\n",
      "Support Vectors are:\n",
      " [[13.  1.  2.]\n",
      " [10.  1.  2.]\n",
      " [10.  0.  9.]\n",
      " ...\n",
      " [12.  1. 14.]\n",
      " [14.  1.  9.]\n",
      " [18.  1. 13.]]\n"
     ]
    }
   ],
   "source": [
    "#sigmoid kernal\n",
    "clf_3 = SVC(kernel='sigmoid')\n",
    "clf_3.fit(X_train, y_train)\n",
    "\n",
    "support_vectors = clf_3.support_vectors_\n",
    "\n",
    "print(\"The Number of support vectors in sigmoid kernal:\", len(support_vectors))\n",
    "print(\"Support Vectors are:\\n\", support_vectors)"
   ]
  },
  {
   "cell_type": "code",
   "execution_count": 46,
   "id": "bba1ae27",
   "metadata": {},
   "outputs": [
    {
     "name": "stdout",
     "output_type": "stream",
     "text": [
      "Accuracy of sigmoid kernal is: 0.8005115089514067\n"
     ]
    }
   ],
   "source": [
    "y_pred = clf_3.predict(X_test)\n",
    "accuracy_sigmoid = accuracy_score(y_test, y_pred)\n",
    "print(\"Accuracy of sigmoid kernal is:\", accuracy_sigmoid)"
   ]
  },
  {
   "cell_type": "code",
   "execution_count": 47,
   "id": "bb1bb67e",
   "metadata": {},
   "outputs": [
    {
     "name": "stdout",
     "output_type": "stream",
     "text": [
      "Accuracies of all kernals are:\n",
      "Accuracy of linear kernal is: 0.8471867007672634\n",
      "Accuracy of poly kernal is: 0.8471867007672634\n",
      "Accuracy of rbf kernal is: 0.8471867007672634\n",
      "Accuracy of sigmoid kernal is: 0.8005115089514067\n"
     ]
    }
   ],
   "source": [
    "print(\"Accuracies of all kernals are:\")\n",
    "print(\"Accuracy of linear kernal is:\", accuracy_clf)\n",
    "print(\"Accuracy of poly kernal is:\", accuracy_poly)\n",
    "print(\"Accuracy of rbf kernal is:\", accuracy_rbf)\n",
    "print(\"Accuracy of sigmoid kernal is:\", accuracy_sigmoid)"
   ]
  },
  {
   "cell_type": "code",
   "execution_count": null,
   "id": "70f3ff29",
   "metadata": {},
   "outputs": [],
   "source": []
  }
 ],
 "metadata": {
  "kernelspec": {
   "display_name": "Python 3 (ipykernel)",
   "language": "python",
   "name": "python3"
  },
  "language_info": {
   "codemirror_mode": {
    "name": "ipython",
    "version": 3
   },
   "file_extension": ".py",
   "mimetype": "text/x-python",
   "name": "python",
   "nbconvert_exporter": "python",
   "pygments_lexer": "ipython3",
   "version": "3.11.4"
  }
 },
 "nbformat": 4,
 "nbformat_minor": 5
}
